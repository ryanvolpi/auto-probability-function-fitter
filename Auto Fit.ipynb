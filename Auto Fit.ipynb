{
 "cells": [
  {
   "cell_type": "markdown",
   "metadata": {},
   "source": [
    "# Automatic Curve Fitting"
   ]
  },
  {
   "cell_type": "code",
   "execution_count": 22,
   "metadata": {},
   "outputs": [],
   "source": [
    "import numpy as np\n",
    "import sympy\n",
    "import math\n",
    "import pandas as pd\n",
    "%matplotlib inline"
   ]
  },
  {
   "cell_type": "markdown",
   "metadata": {},
   "source": [
    "## 1. Define Density Function Class\n",
    "Create a class that represents a probabability density function which can be fit to data"
   ]
  },
  {
   "cell_type": "code",
   "execution_count": 57,
   "metadata": {},
   "outputs": [],
   "source": [
    "class density_function():\n",
    "    from sympy import lambdify\n",
    "    def __init__(self,pdf_type):\n",
    "        self.AIC = 0\n",
    "        self.pdf_type = pdf_type\n",
    "        self.beta_scale = 1\n",
    "        \n",
    "        # Define the probability density functions for various types of prbability distributions\n",
    "        if pdf_type == \"weibull\":\n",
    "            self.syms = (sympy.Symbol('a'),sympy.Symbol('B'))\n",
    "            def pdf(x,a,B):\n",
    "                return a/B**a * x**(a-1) * sympy.exp(-(x/B)**a)    \n",
    "        elif pdf_type == \"exponential\":\n",
    "            self.syms = tuple([sympy.Symbol('l')])\n",
    "            def pdf(x,l):\n",
    "                return l*sympy.exp(-l*x)*1  \n",
    "        elif pdf_type == \"normal\":\n",
    "            self.syms = (sympy.Symbol('m'),sympy.Symbol('s'))\n",
    "            def pdf(x,m,s):\n",
    "                return 1/(s*(2*math.pi)**.5)*sympy.exp(-(x-m)**2/(2*s**2))\n",
    "        elif pdf_type == \"lognormal\":\n",
    "            self.syms = (sympy.Symbol('m'),sympy.Symbol('s'))\n",
    "            def pdf(x,m,s):\n",
    "                return 1/(s*x*(2*math.pi)**.5)*sympy.exp(-(sympy.log(x)-m)**2/(2*s**2))\n",
    "        elif pdf_type == \"gamma\":\n",
    "            self.syms = (sympy.Symbol('a'),sympy.Symbol('B'))\n",
    "            def pdf(x,a,B):\n",
    "                return x**(a-1)/(B**a*sympy.gamma(a)) * sympy.exp(-x/B)\n",
    "        elif pdf_type == \"triangular\":\n",
    "            self.syms = (sympy.Symbol('a'),sympy.Symbol('c'),sympy.Symbol('b'))\n",
    "            def pdf(x,a,c,b):\n",
    "                if x>=a and x<=c:\n",
    "                    return 2*(x-a)/((b-a)*(c-a))\n",
    "                elif x>=c and x<=b:\n",
    "                    return 2*(x-a)/((b-a)*(c-a))\n",
    "                else:\n",
    "                    return 0\n",
    "        elif pdf_type == \"beta\":\n",
    "            self.syms = (sympy.Symbol('a'),sympy.Symbol('B'))\n",
    "            def pdf(x,a,B):\n",
    "                if x<=0 or x>=1:\n",
    "                    return 0\n",
    "                else:\n",
    "                    x_scaled = (x-self.offset)/self.beta_scale\n",
    "                    return x_scaled**(a-1)*(1-x_scaled)**(B-1) / (sympy.gamma(a)*sympy.gamma(B)/sympy.gamma(a+B)) # sympy.beta(a,B)#\n",
    "        elif pdf_type == \"uniform\":\n",
    "            self.syms = tuple([sympy.Symbol('m')])\n",
    "            def pdf(x,m):\n",
    "                return m\n",
    "            \n",
    "        # Create class attributes for the probability density function and degrees of freedon (k)\n",
    "        self.pdf = pdf\n",
    "        self.k = len(self.syms)\n",
    "    \n",
    "    # Define function which to create and return loss functions based on given data\n",
    "    def L_function_creator(self,data):\n",
    "        pdf = self.pdf\n",
    "        syms = self.syms\n",
    "        \n",
    "        # The loss function is the product of the value of each observations f(x)\n",
    "        L_symbolic = 1\n",
    "        for i, x_i in enumerate(data):\n",
    "            L_symbolic = L_symbolic*pdf(x_i,*syms)\n",
    "        \n",
    "        from sympy import lambdify\n",
    "        L_func =  lambdify(syms, L_symbolic)\n",
    "        \n",
    "        # The likelihood function used will be the inverse of the log of the likelihood function. The log of \n",
    "        # the likelihood is easier to work with and inverting it allows us to use minimization to maximize L\n",
    "        def L_function(vec):\n",
    "            return 1/sympy.log(L_func(*vec))\n",
    "        return L_function\n",
    "    \n",
    "    # Function scales data points between 0 and 1. Only used to fit beta distribution\n",
    "    def scale(self, data):\n",
    "        scale = max(data)*(1.05)\n",
    "        data_scaled = data/scale\n",
    "        offset = (1-.05)*min(data_scaled)\n",
    "        return data_scaled-offset, offset, scale\n",
    "    \n",
    "    # Function calculates Akike Information Criterion\n",
    "    def calculate_AIC(self,data,params, k=-1):\n",
    "        if k==-1:\n",
    "            k=self.k\n",
    "        L_inv = self.L_function_creator(data)\n",
    "        self.likelihood = sympy.exp(1/L_inv(params))\n",
    "        return -2/L_inv(params)+2*k\n",
    "    \n",
    "    # Calculates the maximum likelihood coefficient estimates\n",
    "    def fit(self, data, verbose=1):\n",
    "        # Handle scaling seperately for beta distribution\n",
    "        if self.pdf_type == 'beta':\n",
    "            self.k=4 # two coeffs (scale, offset) are estimated manually and so are not in self.syms \n",
    "            _, self.offset, self.beta_scale = self.scale(data) # calculate scale and offset\n",
    "            print(\"beta scale\", self.beta_scale)\n",
    "            print(\"beta offset\", self.offset)\n",
    "            # redefine pdf with updated scale and offset\n",
    "            def pdf(x,a,B):\n",
    "                x_scaled = x/self.beta_scale-self.offset\n",
    "                # Catch errors with improperly scaled data points\n",
    "                if x_scaled <=0 or x_scaled>=1:\n",
    "                    print('ERROR! Scaled point outside (0,1) for Beta')\n",
    "                    print('x=',x,' x_scaled= ', x_scaled, ', Scale= ',self.beta_scale,'Offset=',self.offset)\n",
    "                return x_scaled**(a-1)*(1-x_scaled)**(B-1) / (sympy.gamma(a)*sympy.gamma(B)/sympy.gamma(a+B))\n",
    "            self.pdf = pdf\n",
    "        \n",
    "        pdf = self.pdf\n",
    "        syms = self.syms\n",
    "        \n",
    "        from scipy.optimize import minimize \n",
    "        from scipy.optimize import LinearConstraint, Bounds\n",
    "\n",
    "        k=self.k\n",
    "        \n",
    "        # Create loss function\n",
    "        L_inv = self.L_function_creator(data)\n",
    "\n",
    "        #Define bound for between 1 and 3 parameters\n",
    "        b=[0,0,0]\n",
    "        b[0] = Bounds(np.ones(1)*1e-100,np.ones(1)*np.inf)\n",
    "        b[1] = Bounds(np.ones(2)*1e-100,np.ones(2)*np.inf)\n",
    "        b[2] = Bounds(np.ones(3)*1e-100,np.ones(3)*np.inf)\n",
    "        if self.pdf_type == 'uniform':\n",
    "            b[0] = Bounds(np.ones(1)*1e-100,np.array([1/(max(data)-min(data))]))\n",
    "            \n",
    "        \n",
    "        x0 = np.ones(k)/2\n",
    "        if self.pdf_type == 'normal':\n",
    "            x0 = np.array([np.mean(data),np.var(data)**.5])\n",
    "        if self.pdf_type == 'gamma':\n",
    "            x0 = np.array([6.24,1.74])\n",
    "        if self.pdf_type == 'beta':\n",
    "            x0 = np.array([.983, 1.35])\n",
    "        if self.pdf_type == 'uniform':\n",
    "            x0 = np.array([1/(max(data)-min(data))])\n",
    "            print(\"uniform A:\", min(data))\n",
    "            print(\"uniform B:\", max(data))\n",
    "\n",
    "        # minimize loss function with respect to parameters and s.t. bounds\n",
    "        sol = minimize(L_inv, x0=x0, bounds=b[len(self.syms)-1], options={'gtol': 1e-200})#k-1\n",
    "        self.sol = dict(zip(syms,sol.x))\n",
    "        self.AIC = self.calculate_AIC(data,sol.x)\n",
    "        self.message = sol.message\n",
    "        \n",
    "        # Plot distribution / print output\n",
    "        if verbose >=1:\n",
    "            self.plot(pdf, sol.x, data, bins=0)\n",
    "            if verbose>=2:\n",
    "                print(f'Distribution: {self.pdf_type}')\n",
    "                print(f'AIC: {self.AIC}')\n",
    "                print('Solution Parameters:')\n",
    "                print(self.sol)\n",
    "                print()\n",
    "    \n",
    "    # Define function to control plotting of histogram and pdf\n",
    "    def plot(self, pdf, sol, data, bins=0):\n",
    "        from matplotlib import pyplot as plt\n",
    "        plt.ion()\n",
    "            \n",
    "        M = max(data)\n",
    "        m = min(data)\n",
    "        # Create x and y point values according to pdf\n",
    "        x_theoretical = np.arange(m,M,(M-m)/100)\n",
    "        y_theoretical = [pdf(x, *sol) for x in x_theoretical]\n",
    "        \n",
    "        # Create list of potential values to try for number of bins\n",
    "        try_bins = list(range(3,int(len(data)/2)))\n",
    "        MSE_list=[]\n",
    "        \n",
    "        # Try different values of bins\n",
    "        for bins in try_bins:\n",
    "            #hist = plt.hist(data, bins)\n",
    "            hist = np.histogram(data, bins)\n",
    "            heights = hist[0]\n",
    "            bin_xs = hist[1]\n",
    "            scale = np.mean(heights) / np.mean(y_theoretical)\n",
    "            y_theoretical_scaled = [y*scale for y in y_theoretical]\n",
    "            \n",
    "            corresponding_bins = np.digitize(x_theoretical,bin_xs)-1\n",
    "            y_hist = [heights[corresponding_bin] for corresponding_bin in corresponding_bins]\n",
    "            MSE = np.mean(np.square(np.array(y_hist)-np.array(y_theoretical_scaled)))\n",
    "            \n",
    "            MSE_list.append(MSE)\n",
    "        \n",
    "        self.MSE = min(MSE_list)\n",
    "        bins = try_bins[np.argmin(MSE_list)]   \n",
    "        #M = max(data)\n",
    "        #m = min(data)\n",
    "        #x_theoretical = np.arange(m,M,(M-m)/100)\n",
    "        #y_theoretical = [pdf(x, *sol) for x in x_theoretical]\n",
    "        #scale = np.mean(heights) / np.mean(y_theoretical)\n",
    "        #y_theoretical_scaled = [y*scale for y in y_theoretical]\n",
    "        \n",
    "        heights = plt.hist(data, bins,edgecolor='black', linewidth=1.2)[0]\n",
    "        scale = np.mean(heights) / np.mean(y_theoretical)\n",
    "        y_theoretical_scaled = [y*scale for y in y_theoretical]\n",
    "                        \n",
    "        plt.plot(x_theoretical, y_theoretical_scaled,'.r')\n",
    "        plt.ylim((0,max(heights)))\n",
    "        plt.title(self.pdf_type)\n",
    "        plt.show()"
   ]
  },
  {
   "cell_type": "markdown",
   "metadata": {},
   "source": [
    "## 2. Define Function to Fit and Compare Each Distribution"
   ]
  },
  {
   "cell_type": "code",
   "execution_count": 54,
   "metadata": {},
   "outputs": [],
   "source": [
    "def fit_all(data, distribution_list=[\"weibull\",\"exponential\",\"lognormal\",\"normal\",\"gamma\",\"beta\",\"uniform\"]):\n",
    "    column_list = ['Distribution','DOF','Likelihood','AIC','MSE','Parameters']\n",
    "    \n",
    "    #zero_data = np.zeros(shape=(len(distribution_list),len(column_list)))\n",
    "    #results_df = pd.DataFrame(zero_data, columns=column_list, index=distribution_list)\n",
    "    \n",
    "    results_df = pd.DataFrame(columns=column_list, index=distribution_list)\n",
    "    #results_df.Distribution =results_df.Distribution.astype(str)\n",
    "    #results_df.Parameters =results_df.Parameters.astype(str)\n",
    "    \n",
    "    for distribution_type in distribution_list:\n",
    "        pdf_i = density_function(distribution_type)\n",
    "        pdf_i.fit(data)\n",
    "        results_df.loc[distribution_type]['Distribution'] = pdf_i.pdf_type\n",
    "        results_df.loc[distribution_type]['DOF'] = pdf_i.k\n",
    "        results_df.loc[distribution_type]['Likelihood'] = pdf_i.likelihood\n",
    "        results_df.loc[distribution_type]['AIC'] = pdf_i.AIC\n",
    "        results_df.loc[distribution_type]['MSE'] = pdf_i.MSE\n",
    "        results_df.loc[distribution_type]['Parameters'] = repr(pdf_i.sol)\n",
    "    return results_df"
   ]
  },
  {
   "cell_type": "markdown",
   "metadata": {},
   "source": [
    "## 3a. Green Light Distribution Analysis"
   ]
  },
  {
   "cell_type": "code",
   "execution_count": 55,
   "metadata": {},
   "outputs": [
    {
     "data": {
      "image/png": "[encoded data removed]",
      "text/plain": [
       "<Figure size 432x288 with 1 Axes>"
      ]
     },
     "metadata": {
      "needs_background": "light"
     },
     "output_type": "display_data"
    },
    {
     "data": {
      "image/png": "[encoded data removed]",
      "text/plain": [
       "<Figure size 432x288 with 1 Axes>"
      ]
     },
     "metadata": {
      "needs_background": "light"
     },
     "output_type": "display_data"
    },
    {
     "data": {
      "image/png": "[encoded data removed]",
      "text/plain": [
       "<Figure size 432x288 with 1 Axes>"
      ]
     },
     "metadata": {
      "needs_background": "light"
     },
     "output_type": "display_data"
    },
    {
     "data": {
      "image/png": "[encoded data removed]",
      "text/plain": [
       "<Figure size 432x288 with 1 Axes>"
      ]
     },
     "metadata": {
      "needs_background": "light"
     },
     "output_type": "display_data"
    },
    {
     "data": {
      "image/png": "[encoded data removed]",
      "text/plain": [
       "<Figure size 432x288 with 1 Axes>"
      ]
     },
     "metadata": {
      "needs_background": "light"
     },
     "output_type": "display_data"
    },
    {
     "name": "stdout",
     "output_type": "stream",
     "text": [
      "beta scale 39.354\n",
      "beta offset 0.2788153681963714\n"
     ]
    },
    {
     "data": {
      "image/png": "[encoded data removed]",
      "text/plain": [
       "<Figure size 432x288 with 1 Axes>"
      ]
     },
     "metadata": {
      "needs_background": "light"
     },
     "output_type": "display_data"
    },
    {
     "data": {
      "image/png": "[encoded data removed]",
      "text/plain": [
       "<Figure size 432x288 with 1 Axes>"
      ]
     },
     "metadata": {
      "needs_background": "light"
     },
     "output_type": "display_data"
    },
    {
     "data": {
      "text/html": [
       "<div>\n",
       "<style scoped>\n",
       "    .dataframe tbody tr th:only-of-type {\n",
       "        vertical-align: middle;\n",
       "    }\n",
       "\n",
       "    .dataframe tbody tr th {\n",
       "        vertical-align: top;\n",
       "    }\n",
       "\n",
       "    .dataframe thead th {\n",
       "        text-align: right;\n",
       "    }\n",
       "</style>\n",
       "<table border=\"1\" class=\"dataframe\">\n",
       "  <thead>\n",
       "    <tr style=\"text-align: right;\">\n",
       "      <th></th>\n",
       "      <th>Distribution</th>\n",
       "      <th>DOF</th>\n",
       "      <th>Likelihood</th>\n",
       "      <th>AIC</th>\n",
       "      <th>MSE</th>\n",
       "      <th>Parameters</th>\n",
       "    </tr>\n",
       "  </thead>\n",
       "  <tbody>\n",
       "    <tr>\n",
       "      <th>weibull</th>\n",
       "      <td>weibull</td>\n",
       "      <td>2</td>\n",
       "      <td>9.32818614390766e-32</td>\n",
       "      <td>146.899364782014</td>\n",
       "      <td>2.14283108999963</td>\n",
       "      <td>{a: 3.215640595688718, B: 24.475506033671447}</td>\n",
       "    </tr>\n",
       "    <tr>\n",
       "      <th>exponential</th>\n",
       "      <td>exponential</td>\n",
       "      <td>1</td>\n",
       "      <td>5.52075647168757e-38</td>\n",
       "      <td>173.579437281803</td>\n",
       "      <td>0.413782131822209</td>\n",
       "      <td>{l: 0.045719831400978836}</td>\n",
       "    </tr>\n",
       "    <tr>\n",
       "      <th>lognormal</th>\n",
       "      <td>lognormal</td>\n",
       "      <td>2</td>\n",
       "      <td>2.84356932226157e-31</td>\n",
       "      <td>144.670155632291</td>\n",
       "      <td>1.65896206467358</td>\n",
       "      <td>{m: 3.02944943866888, s: 0.3331712030586328}</td>\n",
       "    </tr>\n",
       "    <tr>\n",
       "      <th>normal</th>\n",
       "      <td>normal</td>\n",
       "      <td>2</td>\n",
       "      <td>6.86925061723447e-32</td>\n",
       "      <td>147.511335911971</td>\n",
       "      <td>2.44480866604187</td>\n",
       "      <td>{m: 21.87238095238095, s: 7.3742782728448395}</td>\n",
       "    </tr>\n",
       "    <tr>\n",
       "      <th>gamma</th>\n",
       "      <td>gamma</td>\n",
       "      <td>2</td>\n",
       "      <td>2.22569776105964e-31</td>\n",
       "      <td>145.160134831767</td>\n",
       "      <td>1.84194212411730</td>\n",
       "      <td>{a: 9.128055682094933, B: 2.3961688270576262}</td>\n",
       "    </tr>\n",
       "    <tr>\n",
       "      <th>beta</th>\n",
       "      <td>beta</td>\n",
       "      <td>4</td>\n",
       "      <td>4498.28559553233</td>\n",
       "      <td>-8.82290324879393</td>\n",
       "      <td>0.921589510068009</td>\n",
       "      <td>{a: 1.3606531107021622, B: 3.57400254614671}</td>\n",
       "    </tr>\n",
       "    <tr>\n",
       "      <th>uniform</th>\n",
       "      <td>uniform</td>\n",
       "      <td>1</td>\n",
       "      <td>2.04242984440857e-30</td>\n",
       "      <td>138.726825181124</td>\n",
       "      <td>1.74562</td>\n",
       "      <td>{m: 0.038565368299267266}</td>\n",
       "    </tr>\n",
       "  </tbody>\n",
       "</table>\n",
       "</div>"
      ],
      "text/plain": [
       "            Distribution DOF            Likelihood                AIC  \\\n",
       "weibull          weibull   2  9.32818614390766e-32   146.899364782014   \n",
       "exponential  exponential   1  5.52075647168757e-38   173.579437281803   \n",
       "lognormal      lognormal   2  2.84356932226157e-31   144.670155632291   \n",
       "normal            normal   2  6.86925061723447e-32   147.511335911971   \n",
       "gamma              gamma   2  2.22569776105964e-31   145.160134831767   \n",
       "beta                beta   4      4498.28559553233  -8.82290324879393   \n",
       "uniform          uniform   1  2.04242984440857e-30   138.726825181124   \n",
       "\n",
       "                           MSE                                     Parameters  \n",
       "weibull       2.14283108999963  {a: 3.215640595688718, B: 24.475506033671447}  \n",
       "exponential  0.413782131822209                      {l: 0.045719831400978836}  \n",
       "lognormal     1.65896206467358   {m: 3.02944943866888, s: 0.3331712030586328}  \n",
       "normal        2.44480866604187  {m: 21.87238095238095, s: 7.3742782728448395}  \n",
       "gamma         1.84194212411730  {a: 9.128055682094933, B: 2.3961688270576262}  \n",
       "beta         0.921589510068009   {a: 1.3606531107021622, B: 3.57400254614671}  \n",
       "uniform                1.74562                      {m: 0.038565368299267266}  "
      ]
     },
     "execution_count": 55,
     "metadata": {},
     "output_type": "execute_result"
    }
   ],
   "source": [
    "import warnings\n",
    "warnings.simplefilter('ignore')#\"default\")#'ignore')#\n",
    "\n",
    "file_path = r'C:\\Users\\ryanv\\Downloads\\Calculations - Data.csv'\n",
    "data = pd.read_csv(file_path)['Time (All Green Lights) (min)']\n",
    "results_df_green = fit_all(data)\n",
    "results_df_green"
   ]
  },
  {
   "cell_type": "markdown",
   "metadata": {},
   "source": [
    "## 3b. Red Light Distribution Analysis"
   ]
  },
  {
   "cell_type": "code",
   "execution_count": 58,
   "metadata": {},
   "outputs": [
    {
     "data": {
      "image/png": "[encoded data removed]",
      "text/plain": [
       "<Figure size 432x288 with 1 Axes>"
      ]
     },
     "metadata": {
      "needs_background": "light"
     },
     "output_type": "display_data"
    },
    {
     "data": {
      "image/png": "[encoded data removed]",
      "text/plain": [
       "<Figure size 432x288 with 1 Axes>"
      ]
     },
     "metadata": {
      "needs_background": "light"
     },
     "output_type": "display_data"
    },
    {
     "data": {
      "image/png": "[encoded data removed]",
      "text/plain": [
       "<Figure size 432x288 with 1 Axes>"
      ]
     },
     "metadata": {
      "needs_background": "light"
     },
     "output_type": "display_data"
    },
    {
     "data": {
      "image/png": "[encoded data removed]",
      "text/plain": [
       "<Figure size 432x288 with 1 Axes>"
      ]
     },
     "metadata": {
      "needs_background": "light"
     },
     "output_type": "display_data"
    },
    {
     "data": {
      "image/png": "[encoded data removed]",
      "text/plain": [
       "<Figure size 432x288 with 1 Axes>"
      ]
     },
     "metadata": {
      "needs_background": "light"
     },
     "output_type": "display_data"
    },
    {
     "name": "stdout",
     "output_type": "stream",
     "text": [
      "beta scale 1.0185\n",
      "beta offset 0.24251350024545903\n"
     ]
    },
    {
     "data": {
      "image/png": "[encoded data removed]",
      "text/plain": [
       "<Figure size 432x288 with 1 Axes>"
      ]
     },
     "metadata": {
      "needs_background": "light"
     },
     "output_type": "display_data"
    },
    {
     "name": "stdout",
     "output_type": "stream",
     "text": [
      "uniform A: 0.26\n",
      "uniform B: 0.97\n"
     ]
    },
    {
     "data": {
      "image/png": "[encoded data removed]",
      "text/plain": [
       "<Figure size 432x288 with 1 Axes>"
      ]
     },
     "metadata": {
      "needs_background": "light"
     },
     "output_type": "display_data"
    },
    {
     "data": {
      "text/html": [
       "<div>\n",
       "<style scoped>\n",
       "    .dataframe tbody tr th:only-of-type {\n",
       "        vertical-align: middle;\n",
       "    }\n",
       "\n",
       "    .dataframe tbody tr th {\n",
       "        vertical-align: top;\n",
       "    }\n",
       "\n",
       "    .dataframe thead th {\n",
       "        text-align: right;\n",
       "    }\n",
       "</style>\n",
       "<table border=\"1\" class=\"dataframe\">\n",
       "  <thead>\n",
       "    <tr style=\"text-align: right;\">\n",
       "      <th></th>\n",
       "      <th>Distribution</th>\n",
       "      <th>DOF</th>\n",
       "      <th>Likelihood</th>\n",
       "      <th>AIC</th>\n",
       "      <th>MSE</th>\n",
       "      <th>Parameters</th>\n",
       "    </tr>\n",
       "  </thead>\n",
       "  <tbody>\n",
       "    <tr>\n",
       "      <th>weibull</th>\n",
       "      <td>weibull</td>\n",
       "      <td>2</td>\n",
       "      <td>0.997142072710130</td>\n",
       "      <td>4.00572403792345</td>\n",
       "      <td>2.46643184714952</td>\n",
       "      <td>{a: 2.0753447379386385, B: 0.7241564771809321}</td>\n",
       "    </tr>\n",
       "    <tr>\n",
       "      <th>exponential</th>\n",
       "      <td>exponential</td>\n",
       "      <td>1</td>\n",
       "      <td>4.74215590630513e-6</td>\n",
       "      <td>26.5180373862169</td>\n",
       "      <td>3.55124273427116</td>\n",
       "      <td>{l: 1.516245419957983}</td>\n",
       "    </tr>\n",
       "    <tr>\n",
       "      <th>lognormal</th>\n",
       "      <td>lognormal</td>\n",
       "      <td>2</td>\n",
       "      <td>0.000206659933873611</td>\n",
       "      <td>20.9688718943097</td>\n",
       "      <td>1.48213168429499</td>\n",
       "      <td>{m: 1e-100, s: 0.5782399281081684}</td>\n",
       "    </tr>\n",
       "    <tr>\n",
       "      <th>normal</th>\n",
       "      <td>normal</td>\n",
       "      <td>2</td>\n",
       "      <td>206.443880148353</td>\n",
       "      <td>-6.66005721725945</td>\n",
       "      <td>1.32318116275622</td>\n",
       "      <td>{m: 0.6595238095235492, s: 0.18773020637417964}</td>\n",
       "    </tr>\n",
       "    <tr>\n",
       "      <th>gamma</th>\n",
       "      <td>gamma</td>\n",
       "      <td>2</td>\n",
       "      <td>0.999999889999211</td>\n",
       "      <td>4.00000022000159</td>\n",
       "      <td>1.84145220698201</td>\n",
       "      <td>{a: 4.867389936549527, B: 0.16227145750665242}</td>\n",
       "    </tr>\n",
       "    <tr>\n",
       "      <th>beta</th>\n",
       "      <td>beta</td>\n",
       "      <td>4</td>\n",
       "      <td>83.2802587584688</td>\n",
       "      <td>-0.844423062784101</td>\n",
       "      <td>2.50160012914821</td>\n",
       "      <td>{a: 1.7429811925885323, B: 2.7555781200244835}</td>\n",
       "    </tr>\n",
       "    <tr>\n",
       "      <th>uniform</th>\n",
       "      <td>uniform</td>\n",
       "      <td>1</td>\n",
       "      <td>1329.15208506699</td>\n",
       "      <td>-12.3845929757646</td>\n",
       "      <td>2.20111</td>\n",
       "      <td>{m: 1.4084507042253522}</td>\n",
       "    </tr>\n",
       "  </tbody>\n",
       "</table>\n",
       "</div>"
      ],
      "text/plain": [
       "            Distribution DOF            Likelihood                 AIC  \\\n",
       "weibull          weibull   2     0.997142072710130    4.00572403792345   \n",
       "exponential  exponential   1   4.74215590630513e-6    26.5180373862169   \n",
       "lognormal      lognormal   2  0.000206659933873611    20.9688718943097   \n",
       "normal            normal   2      206.443880148353   -6.66005721725945   \n",
       "gamma              gamma   2     0.999999889999211    4.00000022000159   \n",
       "beta                beta   4      83.2802587584688  -0.844423062784101   \n",
       "uniform          uniform   1      1329.15208506699   -12.3845929757646   \n",
       "\n",
       "                          MSE                                       Parameters  \n",
       "weibull      2.46643184714952   {a: 2.0753447379386385, B: 0.7241564771809321}  \n",
       "exponential  3.55124273427116                           {l: 1.516245419957983}  \n",
       "lognormal    1.48213168429499               {m: 1e-100, s: 0.5782399281081684}  \n",
       "normal       1.32318116275622  {m: 0.6595238095235492, s: 0.18773020637417964}  \n",
       "gamma        1.84145220698201   {a: 4.867389936549527, B: 0.16227145750665242}  \n",
       "beta         2.50160012914821   {a: 1.7429811925885323, B: 2.7555781200244835}  \n",
       "uniform               2.20111                          {m: 1.4084507042253522}  "
      ]
     },
     "execution_count": 58,
     "metadata": {},
     "output_type": "execute_result"
    }
   ],
   "source": [
    "data = pd.read_csv(file_path)['Time (Single Red Light) (min)']\n",
    "results_df_red = fit_all(data)\n",
    "results_df_red"
   ]
  },
  {
   "cell_type": "markdown",
   "metadata": {},
   "source": [
    "### Improvements Needed\n",
    " - Automatic bin selection slow and selects bin counts that leave many empty bins when given large number of points. Change value of try_bins to have non-linear upper and lower bounds (as a function of number of data points) and try only fraction of possible bins for large sample sizes (every third, etc.)\n",
    " - Scaling function for beta distribution not theoretically sound. Distribution not robust to changes in scaling procedure\n",
    " - Poor starting values can prevent some optimizations from converging. Use coefficient estimates from method of moments as initial values?\n",
    " - Uniform distribution endpoints are determined manually (this may actually give better estimates than MLE optimization)\n",
    " - Print fitted equation in clean (latex?) format"
   ]
  },
  {
   "cell_type": "code",
   "execution_count": null,
   "metadata": {},
   "outputs": [],
   "source": []
  }
 ],
 "metadata": {
  "kernelspec": {
   "display_name": "Python 3",
   "language": "python",
   "name": "python3"
  },
  "language_info": {
   "codemirror_mode": {
    "name": "ipython",
    "version": 3
   },
   "file_extension": ".py",
   "mimetype": "text/x-python",
   "name": "python",
   "nbconvert_exporter": "python",
   "pygments_lexer": "ipython3",
   "version": "3.7.1"
  }
 },
 "nbformat": 4,
 "nbformat_minor": 2
}
